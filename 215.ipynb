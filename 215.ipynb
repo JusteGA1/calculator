{
 "cells": [
  {
   "cell_type": "markdown",
   "metadata": {},
   "source": [
    "# Module 2: Data Engineering\n",
    "## Sprint 1: Software Engineering and Reproducible Research\n",
    "## OOP based Calculator"
   ]
  },
  {
   "cell_type": "markdown",
   "metadata": {},
   "source": [
    "## Background\n",
    "Congrats! You completed almost all assignments and tasks of this week. You did a great job. In this lesson, you will need to prove all the skills that you learned. As the final assignment of this week, you will have to create your own Python package. You will have to use all the learned OOP and \"Clean Code\" concepts and apply them to practice."
   ]
  },
  {
   "cell_type": "markdown",
   "metadata": {},
   "source": [
    "---"
   ]
  },
  {
   "cell_type": "markdown",
   "metadata": {},
   "source": [
    "## The calculator\n",
    "You will need to create a Python module and later transform it into a package. This module will be a calculator. What you should do at first is initialize new Python package structure and create a new file that will be used as a module."
   ]
  },
  {
   "cell_type": "markdown",
   "metadata": {},
   "source": [
    "## Writing tests and documentation\n",
    "You should also write tests that ensure that the basic functionality of the class is covered. Make sure that math operations returns expected results. Document your calculator class using docstrings. Add explanation of the package to README file. Try to be as verbose as possible: include instruction on how to install the package, how to use specific methods.  "
   ]
  },
  {
   "cell_type": "markdown",
   "metadata": {},
   "source": [
    "---"
   ]
  },
  {
   "cell_type": "markdown",
   "metadata": {},
   "source": [
    "## Concepts to explore\n",
    "* Writing clean OOP based Python code and testing it\n",
    "* Creation your own Python package\n",
    "* Understanding and applying required software licenses\n",
    "* Dealing with python environments\n",
    "* Creating and manipulate Docker container"
   ]
  },
  {
   "cell_type": "markdown",
   "metadata": {},
   "source": [
    "## Requirements\n",
    "The main package file should contain a class `Calculator` that should be able to perform these actions:  \n",
    "- Addition / Subtraction\n",
    "- Multiplication / Division\n",
    "- Take (n) root of number\n",
    "- Reset memory (**Calculator must have its own memory, meaning it should manipulate its starting number `0` until it is reset.**). This means that for example `calculator` should perform actions with a value inside its memory (for this example value inside the calculator's memory is `0`): `calculator.add(2)` results in `2`."
   ]
  },
  {
   "cell_type": "markdown",
   "metadata": {},
   "source": [
    "Present your newly created Python package:\n",
    "* Make a short introduction to the repository of the package\n",
    "* Install the package into the Google Collab's env using `pip`\n",
    "* Showcase functionality of the created package\n",
    "* If bonus challenge is completed - explain how the `Dockerfile` is structured and what is its functionality"
   ]
  },
  {
   "cell_type": "markdown",
   "metadata": {},
   "source": [
    "## Evaluation criteria\n",
    "1. Correct Python Package structure is initialized\n",
    "2. Calculator module is created\n",
    "3. Calculator class performs required actions\n",
    "4. Tests are written\n",
    "5. Code is written with PEP8 standards in mind\n",
    "6. Code is well-documented\n",
    "7. Project has informative README file\n",
    "8. Package is installable through `pip`"
   ]
  },
  {
   "cell_type": "markdown",
   "metadata": {},
   "source": [
    "## Bonus challenge\n",
    "Add Dockerfile to the repository that is able to run your module. Python `3.8` environment is initialized and the package is installed when creating Docker container from the image."
   ]
  },
  {
   "cell_type": "code",
   "execution_count": null,
   "metadata": {},
   "outputs": [],
   "source": []
  }
 ],
 "metadata": {
  "kernelspec": {
   "display_name": "Python 3",
   "language": "python",
   "name": "python3"
  },
  "language_info": {
   "codemirror_mode": {
    "name": "ipython",
    "version": 3
   },
   "file_extension": ".py",
   "mimetype": "text/x-python",
   "name": "python",
   "nbconvert_exporter": "python",
   "pygments_lexer": "ipython3",
   "version": "3.7.6"
  }
 },
 "nbformat": 4,
 "nbformat_minor": 4
}
